{
 "cells": [
  {
   "cell_type": "code",
   "execution_count": 1,
   "id": "employed-hometown",
   "metadata": {},
   "outputs": [],
   "source": [
    "import numpy as np"
   ]
  },
  {
   "cell_type": "markdown",
   "id": "related-storm",
   "metadata": {},
   "source": [
    "In this notebook, we show how to use the two emulators to predict the Figure-of-merit of the 3x2pt probes as a function of 6 different features (area, depth, $\\sigma(m)$, $\\sigma_z$, $\\sigma(\\Delta_z)$, $\\sigma(\\sigma_z)$) for a given LSST survey scenario.\n",
    "\n",
    "First, load the data from the `fom_data.npy` file included in this repository. "
   ]
  },
  {
   "cell_type": "code",
   "execution_count": 13,
   "id": "second-phenomenon",
   "metadata": {},
   "outputs": [],
   "source": [
    "fom_data = np.load('fom_data.npy')\n",
    "\n",
    "fom     = fom_data[:,1]\n",
    "features = fom_data[:,2:]\n",
    "\n",
    "# area    = x[:,2]\n",
    "# i_depth = x[:,3]\n",
    "# sigma_m = x[:,4]\n",
    "# sigma_z = x[:,5]\n",
    "# sigma_delta_z = x[:,6]\n",
    "# sigma_sigma_z = x[:,7]"
   ]
  },
  {
   "cell_type": "markdown",
   "id": "official-federation",
   "metadata": {},
   "source": [
    "We can use our Polynomial Chaos Expansion (PCE) emulator in the following way to predict the Figure-of-merit"
   ]
  },
  {
   "cell_type": "markdown",
   "id": "strong-agenda",
   "metadata": {},
   "source": []
  },
  {
   "cell_type": "code",
   "execution_count": null,
   "id": "relevant-niger",
   "metadata": {},
   "outputs": [],
   "source": [
    "# Use the first 33 points to train the emulator and then predict the F-o-M for the remaining three points\n",
    "\n",
    "train_features = features[:33]\n",
    "train_fom      = fom[:33]\n",
    "\n",
    "test_features = features[33:]\n",
    "test_fom      = fom[33:]\n",
    "\n",
    "# The emulators are usually easier to train by normalizing the features to within (0, 1)\n",
    "\n",
    "def do_feature_normalization(features):\n",
    "    return (features - prior_lims[:,0][np.newaxis]) / prior_range[np.newaxis]\n",
    "\n",
    "train_features_norm = do_feature_normalization(train_features)"
   ]
  },
  {
   "cell_type": "code",
   "execution_count": null,
   "id": "tutorial-scoop",
   "metadata": {},
   "outputs": [],
   "source": [
    "# We need a limit of the each of the features for our PCE emulator\n",
    "\n",
    "prior_lims  = np.array([features.min(0), features.max(0)]).T\n",
    "prior_range = prior_lims[:,1] - prior_lims[:,0]"
   ]
  },
  {
   "cell_type": "code",
   "execution_count": 4,
   "id": "protective-honolulu",
   "metadata": {},
   "outputs": [],
   "source": [
    "# Our feature vector is 6-dimensional (area, depth, ...)\n",
    "N_DIM = 6\n",
    "\n",
    "from emulator import PCEEmulator\n",
    "pce_emu = PCEEmulator(N_DIM, prior_lims)"
   ]
  },
  {
   "cell_type": "code",
   "execution_count": 16,
   "id": "false-penalty",
   "metadata": {},
   "outputs": [],
   "source": [
    "pce_emu.train(train_features_norm, train_fom)"
   ]
  },
  {
   "cell_type": "code",
   "execution_count": 17,
   "id": "metric-department",
   "metadata": {},
   "outputs": [],
   "source": [
    "def print_feature(test_feature):\n",
    "    labels = ['Area     ', 'Depth     ', 'sigma(m)', 'sigma_z    ', 'sigma(Delta_z)', 'sigma_sigma_z']\n",
    "    for label, feature in zip(labels, test_feature):\n",
    "        print(label + '\\t: %2.4f'%(feature))"
   ]
  },
  {
   "cell_type": "code",
   "execution_count": 9,
   "id": "recorded-variation",
   "metadata": {},
   "outputs": [
    {
     "name": "stdout",
     "output_type": "stream",
     "text": [
      "Area     \t: 14060.0000\n",
      "Depth     \t: 26.1100\n",
      "sigma(m)\t: 0.0035\n",
      "sigma_z    \t: 0.0690\n",
      "sigma(Delta_z)\t: 0.0039\n",
      "sigma_sigma_z\t: 0.0036\n",
      "===========================\n",
      "Fom (true): 24.120, Fom (pred): 28.424, \n",
      "===========================\n",
      "Area     \t: 10919.0000\n",
      "Depth     \t: 25.9500\n",
      "sigma(m)\t: 0.0077\n",
      "sigma_z    \t: 0.0560\n",
      "sigma(Delta_z)\t: 0.0015\n",
      "sigma_sigma_z\t: 0.0059\n",
      "===========================\n",
      "Fom (true): 24.648, Fom (pred): 25.970, \n",
      "===========================\n",
      "Area     \t: 13213.0000\n",
      "Depth     \t: 26.1900\n",
      "sigma(m)\t: 0.0135\n",
      "sigma_z    \t: 0.0150\n",
      "sigma(Delta_z)\t: 0.0036\n",
      "sigma_sigma_z\t: 0.0042\n",
      "===========================\n",
      "Fom (true): 29.649, Fom (pred): 32.684, \n",
      "===========================\n"
     ]
    }
   ],
   "source": [
    "for test_feature, fom_true in zip(test_features, test_fom):\n",
    "    print_feature(test_feature)\n",
    "    test_feature_norm = do_feature_normalization(test_feature)\n",
    "    fom_pred = pce_emu.predict(test_feature_norm)\n",
    "    print(\"===========================\")\n",
    "    print(\"Fom (true): %2.3f, Fom (pred): %2.3f, \"%(fom_true, fom_pred))\n",
    "    print(\"===========================\")"
   ]
  },
  {
   "cell_type": "markdown",
   "id": "competent-police",
   "metadata": {},
   "source": [
    "Alternatively, we can use the Gaussian process emulator for the same. Usually the Gaussian process emulator is more robust, which the PCE emulator may require tuning of a few parameters."
   ]
  },
  {
   "cell_type": "markdown",
   "id": "obvious-thermal",
   "metadata": {},
   "source": [
    "### GP emulator"
   ]
  },
  {
   "cell_type": "code",
   "execution_count": 10,
   "id": "caroline-hygiene",
   "metadata": {},
   "outputs": [],
   "source": [
    "from emulator import GPEmulator\n",
    "gp_emu = GPEmulator(N_DIM)"
   ]
  },
  {
   "cell_type": "code",
   "execution_count": 11,
   "id": "dramatic-manor",
   "metadata": {},
   "outputs": [
    {
     "name": "stdout",
     "output_type": "stream",
     "text": [
      "Optimization terminated successfully.\n",
      "         Current function value: 18.671423\n",
      "         Iterations: 9\n",
      "         Function evaluations: 700\n"
     ]
    }
   ],
   "source": [
    "gp_emu.train(train_features_norm, train_fom)"
   ]
  },
  {
   "cell_type": "code",
   "execution_count": 12,
   "id": "individual-gentleman",
   "metadata": {},
   "outputs": [
    {
     "name": "stdout",
     "output_type": "stream",
     "text": [
      "Test feature: \n",
      "------------\n",
      "Area     \t: 14060.0000\n",
      "Depth     \t: 26.1100\n",
      "sigma(m)\t: 0.0035\n",
      "sigma_z    \t: 0.0690\n",
      "sigma(Delta_z)\t: 0.0039\n",
      "sigma_sigma_z\t: 0.0036\n",
      "===========================\n",
      "Fom (true): 24.120, Fom (pred): 26.135, \n",
      "===========================\n",
      "Test feature: \n",
      "------------\n",
      "Area     \t: 10919.0000\n",
      "Depth     \t: 25.9500\n",
      "sigma(m)\t: 0.0077\n",
      "sigma_z    \t: 0.0560\n",
      "sigma(Delta_z)\t: 0.0015\n",
      "sigma_sigma_z\t: 0.0059\n",
      "===========================\n",
      "Fom (true): 24.648, Fom (pred): 27.819, \n",
      "===========================\n",
      "Test feature: \n",
      "------------\n",
      "Area     \t: 13213.0000\n",
      "Depth     \t: 26.1900\n",
      "sigma(m)\t: 0.0135\n",
      "sigma_z    \t: 0.0150\n",
      "sigma(Delta_z)\t: 0.0036\n",
      "sigma_sigma_z\t: 0.0042\n",
      "===========================\n",
      "Fom (true): 29.649, Fom (pred): 29.128, \n",
      "===========================\n"
     ]
    }
   ],
   "source": [
    "for test_feature, fom_true in zip(test_features, test_fom):\n",
    "    print(\"Test feature: \")\n",
    "    print(\"------------\")\n",
    "    print_feature(test_feature)\n",
    "    test_feature_norm = do_feature_normalization(test_feature)\n",
    "    fom_pred = gp_emu.predict(test_feature_norm)\n",
    "    print(\"===========================\")\n",
    "    print(\"Fom (true): %2.3f, Fom (pred): %2.3f, \"%(fom_true, fom_pred))\n",
    "    print(\"===========================\")"
   ]
  }
 ],
 "metadata": {
  "kernelspec": {
   "display_name": "Python 3",
   "language": "python",
   "name": "python3"
  },
  "language_info": {
   "codemirror_mode": {
    "name": "ipython",
    "version": 3
   },
   "file_extension": ".py",
   "mimetype": "text/x-python",
   "name": "python",
   "nbconvert_exporter": "python",
   "pygments_lexer": "ipython3",
   "version": "3.8.8"
  }
 },
 "nbformat": 4,
 "nbformat_minor": 5
}
